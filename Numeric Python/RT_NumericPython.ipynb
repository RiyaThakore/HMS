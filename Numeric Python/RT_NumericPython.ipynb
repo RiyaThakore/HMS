{
  "nbformat": 4,
  "nbformat_minor": 0,
  "metadata": {
    "colab": {
      "provenance": [],
      "gpuType": "T4"
    },
    "kernelspec": {
      "name": "python3",
      "display_name": "Python 3"
    },
    "language_info": {
      "name": "python"
    },
    "accelerator": "GPU"
  },
  "cells": [
    {
      "cell_type": "markdown",
      "source": [
        "Welcome to a basic quiz on numeric python.\n",
        "\n",
        "- This quiz was designed as a basic level test of python proficiency, array manipulation, and comfort in handling data.\n",
        "\n",
        "- For each question please note if you used a chatbot and/or had to google something. It is not expected that you will know how to do everything from memory; I had to look up a couple things when making it.\n",
        "\n",
        "- Where possible, write simple, efficient, and pythonic code; use built in functions in appropriate libraries.\n",
        "\n",
        "- Try to complete this in one sitting. Expect to take a minimum of 20 minutes. Some experienced people have taken much longer, especially if python is not their favorite language."
      ],
      "metadata": {
        "id": "yMIvDtb6U51M"
      }
    },
    {
      "cell_type": "code",
      "source": [
        "# Start a timer. There is no rush.\n",
        "import time\n",
        "time_start = time.time()\n",
        "print(time_start)"
      ],
      "metadata": {
        "id": "aKYk-bWJZaD-",
        "colab": {
          "base_uri": "https://localhost:8080/"
        },
        "outputId": "0e6c3eed-2860-49f7-95bc-df4d1205485c"
      },
      "execution_count": 43,
      "outputs": [
        {
          "output_type": "stream",
          "name": "stdout",
          "text": [
            "1700533154.2882755\n"
          ]
        }
      ]
    },
    {
      "cell_type": "code",
      "source": [
        "# Import numpy\n",
        "import numpy as np"
      ],
      "metadata": {
        "id": "I6NnHolec07U"
      },
      "execution_count": 44,
      "outputs": []
    },
    {
      "cell_type": "code",
      "source": [
        "# Make a variable called 'a' that is an identity matrix of length 5\n",
        "# ref: https://numpy.org/doc/stable/reference/generated/numpy.identity.html\n",
        "a = np.identity(5)\n",
        "print(\"a:\", a)"
      ],
      "metadata": {
        "id": "4VSsbquKHxqW",
        "colab": {
          "base_uri": "https://localhost:8080/"
        },
        "outputId": "7c232791-fc67-420c-87b6-182b351e3651"
      },
      "execution_count": 45,
      "outputs": [
        {
          "output_type": "stream",
          "name": "stdout",
          "text": [
            "a: [[1. 0. 0. 0. 0.]\n",
            " [0. 1. 0. 0. 0.]\n",
            " [0. 0. 1. 0. 0.]\n",
            " [0. 0. 0. 1. 0.]\n",
            " [0. 0. 0. 0. 1.]]\n"
          ]
        }
      ]
    },
    {
      "cell_type": "code",
      "source": [
        "# Print the number of elements that equal zero in 'a'\n",
        "num_zeros = np.sum(a == 0)\n",
        "print(\"num_zeros:\",num_zeros)"
      ],
      "metadata": {
        "id": "uaOt2SNHIBVX",
        "colab": {
          "base_uri": "https://localhost:8080/"
        },
        "outputId": "1236c05a-dfed-48b5-de02-988e943a43c5"
      },
      "execution_count": 46,
      "outputs": [
        {
          "output_type": "stream",
          "name": "stdout",
          "text": [
            "num_zeros: 20\n"
          ]
        }
      ]
    },
    {
      "cell_type": "code",
      "source": [
        "# Print the first column of 'a'\n",
        "print(\"first col of a:\", a[:, 0])"
      ],
      "metadata": {
        "id": "lS-PY8G8IOCT",
        "colab": {
          "base_uri": "https://localhost:8080/"
        },
        "outputId": "d96d091b-6b56-46c3-9a59-455c597f3f75"
      },
      "execution_count": 47,
      "outputs": [
        {
          "output_type": "stream",
          "name": "stdout",
          "text": [
            "first col of a: [1. 0. 0. 0. 0.]\n"
          ]
        }
      ]
    },
    {
      "cell_type": "code",
      "source": [
        "# Make a variable 'b' that is a 40 element 1D array with just the numbers [1, 2, 1, 2, ...] repeating\n",
        "# print 'b'\n",
        "# ref: https://numpy.org/doc/stable/reference/generated/numpy.tile.html\n",
        "b = np.tile([1, 2], 20)\n",
        "print(\"b:\",b)"
      ],
      "metadata": {
        "id": "47cZFY_wItql",
        "colab": {
          "base_uri": "https://localhost:8080/"
        },
        "outputId": "70ddac68-26f9-4f79-8b53-325584751fe3"
      },
      "execution_count": 48,
      "outputs": [
        {
          "output_type": "stream",
          "name": "stdout",
          "text": [
            "b: [1 2 1 2 1 2 1 2 1 2 1 2 1 2 1 2 1 2 1 2 1 2 1 2 1 2 1 2 1 2 1 2 1 2 1 2 1\n",
            " 2 1 2]\n"
          ]
        }
      ]
    },
    {
      "cell_type": "code",
      "source": [
        "# Make a variable 'z' that is a list containing the lowercase letters of the alphabet as strings (eg. ['a', 'b', ...])\n",
        "z = [chr(ord('a') + i) for i in range(26)]\n",
        "\n",
        "# Make a variable 'y' where for each element of the list 'z', prepend the string 'letter ' and raise the letter to be uppercase, so that the list contains ['letter A', 'letter B']\n",
        "y = ['letter ' + letter.upper() for letter in z]\n",
        "\n",
        "# print y\n",
        "print(\"y:\", y)"
      ],
      "metadata": {
        "id": "AGLrqLs5WLdE",
        "colab": {
          "base_uri": "https://localhost:8080/"
        },
        "outputId": "2ca7ce9b-b684-466d-e4ec-2e3faed15af9"
      },
      "execution_count": 49,
      "outputs": [
        {
          "output_type": "stream",
          "name": "stdout",
          "text": [
            "y: ['letter A', 'letter B', 'letter C', 'letter D', 'letter E', 'letter F', 'letter G', 'letter H', 'letter I', 'letter J', 'letter K', 'letter L', 'letter M', 'letter N', 'letter O', 'letter P', 'letter Q', 'letter R', 'letter S', 'letter T', 'letter U', 'letter V', 'letter W', 'letter X', 'letter Y', 'letter Z']\n"
          ]
        }
      ]
    },
    {
      "cell_type": "code",
      "source": [
        "# Make a variable 'c' that is a 3D array of shape (8, 11, 2)\n",
        "c = np.zeros((8, 11, 2), dtype=int)\n",
        "print('c:',c)\n",
        "\n",
        "# where c[:,:,0] contains integers that increase from 0-7 along each column,\n",
        "c[:, :, 0] = np.tile(np.arange(8).reshape(-1, 1), 11)\n",
        "print('c[:,:,0]:',c[:,:,0])\n",
        "\n",
        "# and where c[:,:,1] contains integers that increase from 101-112 along each row\n",
        "c[:, :, 1] = np.tile(np.arange(101, 112), (8, 1))\n",
        "print('c[:,:,1]:',c[:,:,1])"
      ],
      "metadata": {
        "id": "hVKU-VJLJlMa",
        "colab": {
          "base_uri": "https://localhost:8080/"
        },
        "outputId": "dc789c94-88d6-4fb6-d9b3-4db80d8da623"
      },
      "execution_count": 50,
      "outputs": [
        {
          "output_type": "stream",
          "name": "stdout",
          "text": [
            "c: [[[0 0]\n",
            "  [0 0]\n",
            "  [0 0]\n",
            "  [0 0]\n",
            "  [0 0]\n",
            "  [0 0]\n",
            "  [0 0]\n",
            "  [0 0]\n",
            "  [0 0]\n",
            "  [0 0]\n",
            "  [0 0]]\n",
            "\n",
            " [[0 0]\n",
            "  [0 0]\n",
            "  [0 0]\n",
            "  [0 0]\n",
            "  [0 0]\n",
            "  [0 0]\n",
            "  [0 0]\n",
            "  [0 0]\n",
            "  [0 0]\n",
            "  [0 0]\n",
            "  [0 0]]\n",
            "\n",
            " [[0 0]\n",
            "  [0 0]\n",
            "  [0 0]\n",
            "  [0 0]\n",
            "  [0 0]\n",
            "  [0 0]\n",
            "  [0 0]\n",
            "  [0 0]\n",
            "  [0 0]\n",
            "  [0 0]\n",
            "  [0 0]]\n",
            "\n",
            " [[0 0]\n",
            "  [0 0]\n",
            "  [0 0]\n",
            "  [0 0]\n",
            "  [0 0]\n",
            "  [0 0]\n",
            "  [0 0]\n",
            "  [0 0]\n",
            "  [0 0]\n",
            "  [0 0]\n",
            "  [0 0]]\n",
            "\n",
            " [[0 0]\n",
            "  [0 0]\n",
            "  [0 0]\n",
            "  [0 0]\n",
            "  [0 0]\n",
            "  [0 0]\n",
            "  [0 0]\n",
            "  [0 0]\n",
            "  [0 0]\n",
            "  [0 0]\n",
            "  [0 0]]\n",
            "\n",
            " [[0 0]\n",
            "  [0 0]\n",
            "  [0 0]\n",
            "  [0 0]\n",
            "  [0 0]\n",
            "  [0 0]\n",
            "  [0 0]\n",
            "  [0 0]\n",
            "  [0 0]\n",
            "  [0 0]\n",
            "  [0 0]]\n",
            "\n",
            " [[0 0]\n",
            "  [0 0]\n",
            "  [0 0]\n",
            "  [0 0]\n",
            "  [0 0]\n",
            "  [0 0]\n",
            "  [0 0]\n",
            "  [0 0]\n",
            "  [0 0]\n",
            "  [0 0]\n",
            "  [0 0]]\n",
            "\n",
            " [[0 0]\n",
            "  [0 0]\n",
            "  [0 0]\n",
            "  [0 0]\n",
            "  [0 0]\n",
            "  [0 0]\n",
            "  [0 0]\n",
            "  [0 0]\n",
            "  [0 0]\n",
            "  [0 0]\n",
            "  [0 0]]]\n",
            "c[:,:,0]: [[0 0 0 0 0 0 0 0 0 0 0]\n",
            " [1 1 1 1 1 1 1 1 1 1 1]\n",
            " [2 2 2 2 2 2 2 2 2 2 2]\n",
            " [3 3 3 3 3 3 3 3 3 3 3]\n",
            " [4 4 4 4 4 4 4 4 4 4 4]\n",
            " [5 5 5 5 5 5 5 5 5 5 5]\n",
            " [6 6 6 6 6 6 6 6 6 6 6]\n",
            " [7 7 7 7 7 7 7 7 7 7 7]]\n",
            "c[:,:,1]: [[101 102 103 104 105 106 107 108 109 110 111]\n",
            " [101 102 103 104 105 106 107 108 109 110 111]\n",
            " [101 102 103 104 105 106 107 108 109 110 111]\n",
            " [101 102 103 104 105 106 107 108 109 110 111]\n",
            " [101 102 103 104 105 106 107 108 109 110 111]\n",
            " [101 102 103 104 105 106 107 108 109 110 111]\n",
            " [101 102 103 104 105 106 107 108 109 110 111]\n",
            " [101 102 103 104 105 106 107 108 109 110 111]]\n"
          ]
        }
      ]
    },
    {
      "cell_type": "code",
      "source": [
        "# Make a variable 'd' that is the outer product of 'a', 'b', and 'c'. Use index broadcasting and a single multiplication step.\n",
        "# The resulting array should be shape (5, 5, 40, 8, 11, 2).\n",
        "\n",
        "#ref: https://www.youtube.com/watch?v=oG1t3qlzq14\n",
        "\n",
        "d = a[:, :, np.newaxis, np.newaxis, np.newaxis, np.newaxis] * b[np.newaxis, np.newaxis, :, np.newaxis, np.newaxis, np.newaxis] * c[np.newaxis, np.newaxis, np.newaxis, :, :, :]\n",
        "# Print 'd.shape'\n",
        "print(\"d.shape:\", d.shape)\n",
        "\n",
        "# print d.shape\n",
        "print(\"d.sum:\", d.sum())\n"
      ],
      "metadata": {
        "id": "iG6ArFWPLS9G",
        "colab": {
          "base_uri": "https://localhost:8080/"
        },
        "outputId": "02ad5e23-720d-4c08-e71c-f3e4bd1e1d3e"
      },
      "execution_count": 51,
      "outputs": [
        {
          "output_type": "stream",
          "name": "stdout",
          "text": [
            "d.shape: (5, 5, 40, 8, 11, 2)\n",
            "d.sum: 2890800.0\n"
          ]
        }
      ]
    },
    {
      "cell_type": "code",
      "source": [
        "# Make a variable 'e' that casts variable 'd' into float32\n",
        "e = d.astype(np.float32)\n",
        "\n",
        "# print the size of 'e' in memory / on disk in MB\n",
        "size_in_memory_mb = e.nbytes / (1024 ** 2)\n",
        "#ref : https://numpy.org/doc/stable/reference/generated/numpy.ndarray.nbytes.html\n",
        "print(\"Size of 'e' in memory:\", size_in_memory_mb, \"MB\")\n",
        "\n",
        "# Save 'e' to a temporary file and print the size on disk\n",
        "np.save(\"temp_file.npy\", e)\n",
        "size_on_disk_mb = np.load(\"temp_file.npy\").nbytes / (1024 ** 2)\n",
        "print(\"Size of 'e' on disk:\", size_on_disk_mb, \"MB\")\n"
      ],
      "metadata": {
        "id": "ruNl1agUI2zh",
        "colab": {
          "base_uri": "https://localhost:8080/"
        },
        "outputId": "9ae859b6-9eab-49a6-df46-b6c1ea217c2d"
      },
      "execution_count": 52,
      "outputs": [
        {
          "output_type": "stream",
          "name": "stdout",
          "text": [
            "Size of 'e' in memory: 0.67138671875 MB\n",
            "Size of 'e' on disk: 0.67138671875 MB\n"
          ]
        }
      ]
    },
    {
      "cell_type": "code",
      "source": [
        "# Calculate and print the estimated size of an array that has the shape (908760987, 293847, 238947987, 897, 1111, 1231, 99999) and a datatype of uint16.\n",
        "# Output should be in Petabytes (PB). Show work.\n",
        "\n",
        "shape = (908760987, 293847, 238947987, 897, 1111, 1231, 99999)\n",
        "dtype = np.uint16\n",
        "\n",
        "# Calculation: est size = number of elements * size of each element\n",
        "\n",
        "num_elements = np.prod(shape)\n",
        "\n",
        "print(num_elements)\n",
        "\n",
        "each_element_size = np.dtype(dtype).itemsize\n",
        "\n",
        "print(each_element_size)\n",
        "\n",
        "total_size_bytes = num_elements * each_element_size\n",
        "\n",
        "# Convert the size to petabytes\n",
        "total_size_pb = total_size_bytes / (1024 ** 5)\n",
        "\n",
        "# Print the result\n",
        "print(f\"Estimated size: {total_size_pb:.2f} PB\")"
      ],
      "metadata": {
        "id": "6_6WqYSuNkUD",
        "colab": {
          "base_uri": "https://localhost:8080/"
        },
        "outputId": "d37a0399-9a6f-4b13-911f-8c5c4c7b02c5"
      },
      "execution_count": 53,
      "outputs": [
        {
          "output_type": "stream",
          "name": "stdout",
          "text": [
            "-670915569422332639\n",
            "2\n",
            "Estimated size: -1191.79 PB\n"
          ]
        }
      ]
    },
    {
      "cell_type": "code",
      "source": [
        "# Make a matrix 'f' that is 2D, of shape (100000, 3).\n",
        "# The columns should contain random numbers that are normally distributed with a mean of 0 and standard deviation of 1.\n",
        "f = np.random.normal(0, 1, size=(100000, 3))\n",
        "\n",
        "# The correlation matrix of this array (describing the correlation coefficient of each pair of columns) should be [[1, 0.5, 0],\n",
        "                                                                                                                   # [0.5, 1, 0.2],\n",
        "                                                                                                                   # [0, 0.2, 1]]\n",
        "\n",
        "target_corr_matrix = np.array([[1, 0.5, 0], [0.5, 1, 0.2], [0, 0.2, 1]])\n",
        "\n",
        "# Make a matrix 'g' that is the correlation matrix of 'f' rounded to the nearest tenth (eg. 0.132323423 > 0.1). It should be of shape (3,3)\n",
        "# Using Cholesky decomposition ref: https://mc-stan.org/docs/reference-manual/cholesky-factors-of-correlation-matrices-1.html\n",
        "\n",
        "cholesky_matrix = np.linalg.cholesky(target_corr_matrix)\n",
        "f = f @ cholesky_matrix.T\n",
        "\n",
        "# Calculate the correlation matrix of 'f'\n",
        "corr_matrix = np.corrcoef(f, rowvar=False)\n",
        "\n",
        "# Round the correlation matrix to the nearest tenth\n",
        "g = np.round(corr_matrix, 1)\n",
        "\n",
        "# print 'g'\n",
        "print(\"Correlation Matrix 'g':\")\n",
        "print(g)\n",
        "print(g.shape)"
      ],
      "metadata": {
        "id": "Hwm2HKQGP3o4",
        "colab": {
          "base_uri": "https://localhost:8080/"
        },
        "outputId": "0103a49f-1970-4b80-ecd8-8b5f873c48a5"
      },
      "execution_count": 54,
      "outputs": [
        {
          "output_type": "stream",
          "name": "stdout",
          "text": [
            "Correlation Matrix 'g':\n",
            "[[ 1.   0.5 -0. ]\n",
            " [ 0.5  1.   0.2]\n",
            " [-0.   0.2  1. ]]\n",
            "(3, 3)\n"
          ]
        }
      ]
    },
    {
      "cell_type": "code",
      "source": [
        "# Make a matrix 'h' that is a 1D array of length 100 with random numbers generated from a poisson distribution with lambda = 0.3, and set numpy's random number generator seed to 123 beforehand.\n",
        "# print h.sum()\n",
        "\n",
        "# Set seed for reproducibility\n",
        "np.random.seed(123)\n",
        "\n",
        "# Make a matrix 'h' as a 1D array of length 100 with random numbers from a Poisson distribution\n",
        "h = np.random.poisson(lam=0.3, size=100)\n",
        "\n",
        "# Print the sum of 'h'\n",
        "print(\"Sum of 'h':\", h.sum())\n"
      ],
      "metadata": {
        "id": "QHsz2dpUTW09",
        "colab": {
          "base_uri": "https://localhost:8080/"
        },
        "outputId": "fbafef65-3d00-4a4d-cda4-c8e835978826"
      },
      "execution_count": 55,
      "outputs": [
        {
          "output_type": "stream",
          "name": "stdout",
          "text": [
            "Sum of 'h': 18\n"
          ]
        }
      ]
    },
    {
      "cell_type": "code",
      "source": [
        "# Write a class 'J' that has two attributes: 'J.k', and 'J.l', where 'k' is set to 3 and 'l' is initialized via the __init__ method with a default value of 4.\n",
        "\n",
        "class J:\n",
        "    def __init__(self, l=4):\n",
        "        self.k = 3\n",
        "        self.l = l\n",
        "\n",
        "    # Give 'J' a method called 'sum' that returns the sum of 'J.k' and 'J.l'\n",
        "    def sum(self):\n",
        "        return self.k + self.l\n",
        "\n",
        "# print J(l=9).sum()\n",
        "j_instance = J(l=9)\n",
        "print(j_instance.sum())\n"
      ],
      "metadata": {
        "id": "sdixuybcWMrF",
        "colab": {
          "base_uri": "https://localhost:8080/"
        },
        "outputId": "1306cc22-ea90-4b80-bb43-f5bf72b4fda5"
      },
      "execution_count": 56,
      "outputs": [
        {
          "output_type": "stream",
          "name": "stdout",
          "text": [
            "12\n"
          ]
        }
      ]
    },
    {
      "cell_type": "code",
      "source": [
        "# Write a class 'M' that does the following:\n",
        "#   - Has attribute 'M.encoder' that is defined as a random (uniform distribution 0 to 1) array of shape (5, 3)\n",
        "#   - Has a method 'M.random_projection' with two arguments: 'X' and 'output_size'.\n",
        "#        This method should take the inner product ('dot' product) of X and encoder, and then take the inner product of that output and a random (uniform 0 to 1) matrix with shape (3, output_size), and then return that result.\n",
        "#   - The 'M.random_projection' method should also check the properties of X (object type, ndim, shape) at the beginning of the function to ensure that the multiplication will work without error; if it will not work a descriptive error should be thrown.\n",
        "\n",
        "class M:\n",
        "    # Set the random seed to 123 beforehand and then\n",
        "    def __init__(self):\n",
        "        np.random.seed(123)\n",
        "        self.encoder = np.random.rand(5, 3)\n",
        "\n",
        "    def random_projection(self, X, output_size):\n",
        "\n",
        "        # Perform random projection\n",
        "        inner_product1 = np.dot(X, self.encoder)\n",
        "        random_matrix = np.random.rand(self.encoder.shape[1], output_size)\n",
        "        result = np.dot(inner_product1, random_matrix)\n",
        "        return result\n",
        "\n",
        "\n",
        "print(M().random_projection(X=np.array([[2,3,4,5,6]]), output_size=5))\n",
        "\n"
      ],
      "metadata": {
        "id": "GytIh1BJXhXn",
        "colab": {
          "base_uri": "https://localhost:8080/"
        },
        "outputId": "8e6bffff-2a2d-4512-a10f-e27b1981e84a"
      },
      "execution_count": 57,
      "outputs": [
        {
          "output_type": "stream",
          "name": "stdout",
          "text": [
            "[[16.44489801 12.02025304  9.70347804 13.59854365 17.70707043]]\n"
          ]
        }
      ]
    },
    {
      "cell_type": "code",
      "source": [
        "# Run additional prints\n",
        "print(M().random_projection(X=np.arange(5), output_size=5))\n",
        "print(M().random_projection(X=np.arange(5)[None,:], output_size=5))\n",
        "# print(M().random_projection(X=np.arange(5)[:,None], output_size=5)) #throws an error\n",
        "\n",
        "\n",
        "# In < 20 words, why can X be both np.arange(5) and np.arange(5)[None,:], but not np.arange(5)[:,None] without throwing an error\n",
        "\n",
        "X1=np.arange(5)[None,:]\n",
        "X2=np.arange(5)[:,None]\n",
        "X3=np.arange(5)\n",
        "print(X1)\n",
        "print(X1.shape) # (1,5)\n",
        "print(X2)\n",
        "print(X2.shape) # (5,1)\n",
        "print(X3)\n",
        "print(X3.shape) # (5,)\n",
        "\n",
        "# ANSWER:\n",
        "# np.arange(5)[:,None] has shape (5,1) and Encoder has shape (5,3); in order to perform projection it has to match number of columns 1 (dim 1) != 5 (dim 0)\n",
        "# While np.arange(5) and np.arange(5)[None,:] has matching columns to take the dot product for the random projection"
      ],
      "metadata": {
        "colab": {
          "base_uri": "https://localhost:8080/"
        },
        "id": "TeZXoLSOd0_y",
        "outputId": "9e90976f-010b-433b-c1d2-d19f3ef83f2a"
      },
      "execution_count": 58,
      "outputs": [
        {
          "output_type": "stream",
          "name": "stdout",
          "text": [
            "[7.81504359 5.71363509 4.56615546 6.46175266 8.57905575]\n",
            "[[7.81504359 5.71363509 4.56615546 6.46175266 8.57905575]]\n",
            "[[0 1 2 3 4]]\n",
            "(1, 5)\n",
            "[[0]\n",
            " [1]\n",
            " [2]\n",
            " [3]\n",
            " [4]]\n",
            "(5, 1)\n",
            "[0 1 2 3 4]\n",
            "(5,)\n"
          ]
        }
      ]
    },
    {
      "cell_type": "code",
      "source": [
        "import torch"
      ],
      "metadata": {
        "id": "QAMu5sGwbrsu"
      },
      "execution_count": 59,
      "outputs": []
    },
    {
      "cell_type": "code",
      "source": [
        "\n",
        "import matplotlib.pyplot as plt\n",
        "\n",
        "# Set PyTorch random seed\n",
        "torch.manual_seed(123)\n",
        "\n",
        "# Make a variable 'n' that is a torch tensor of random (uniform 0 to 1) values of shape (1000, 30000)\n",
        "n = torch.rand((1000, 30000))\n",
        "print(\"Shape of 'n':\", n.shape)\n",
        "\n",
        "# Make a variable 'o' that is a torch tensor: torch.as_tensor([0,0,1,2,2.5,3,2.5,2,1,0,0])\n",
        "# Modify variable 'o' such that it's sum = 1\n",
        "o = torch.as_tensor([0, 0, 1, 2, 2.5, 3, 2.5, 2, 1, 0, 0], dtype=torch.float32)\n",
        "o /= o.sum()\n",
        "\n",
        "# Make a variable 'p' that is made by calculating the convolution of 'n' with the kernel 'o' over the row dimension (each row of 'n' should be independently convolved with 'o').\n",
        "#   The result should be of shape (1000, 30000), so use padding='same'.\n",
        "p = torch.nn.functional.conv1d(n.unsqueeze(1), o.view(1, 1, -1), padding='same')[0]\n",
        "print(\"Sum of 'p':\", p.sum().item())\n",
        "\n",
        "\n",
        "# Plot the first 100 samples of the first row of 'n' and 'p'\n",
        "plt.plot(n[0, :100].numpy(), label='n')\n",
        "plt.plot(p[0, :100].numpy(), label='p')\n",
        "plt.legend()\n",
        "plt.show()\n",
        "\n",
        "# In 5-20 words, describe what this code did qualitatively to the data.\n",
        "# ANSWER:\n",
        "# From the plot, it is evident that performing individual convolution of 'n' with 'o' (as 'p' in the snippet) results in a smoothing of the tensor n.\n",
        "# Normalizing tensor 'o' smoothed data in each row of 'n'"
      ],
      "metadata": {
        "colab": {
          "base_uri": "https://localhost:8080/",
          "height": 466
        },
        "id": "aiOX0TSxi7_L",
        "outputId": "e8eef536-57fd-4c46-e045-e0c790d7fe32"
      },
      "execution_count": 60,
      "outputs": [
        {
          "output_type": "stream",
          "name": "stdout",
          "text": [
            "Shape of 'n': torch.Size([1000, 30000])\n",
            "Sum of 'p': 15009.4501953125\n"
          ]
        },
        {
          "output_type": "display_data",
          "data": {
            "text/plain": [
              "<Figure size 640x480 with 1 Axes>"
            ],
            "image/png": "[encoded data removed]"
          },
          "metadata": {}
        }
      ]
    },
    {
      "cell_type": "code",
      "source": [
        "# Extra credit:\n",
        "\n",
        "import torch\n",
        "import timeit\n",
        "\n",
        "# Make variables 'q' and 'r' that are simply 'n' and 'o' on a GPU (if on CoLab, change your runtime type to one with a GPU)\n",
        "\n",
        "torch.manual_seed(123)\n",
        "\n",
        "n = torch.rand((1000, 30000))\n",
        "q = n.to('cuda')\n",
        "\n",
        "o = torch.as_tensor([0, 0, 1, 2, 2.5, 3, 2.5, 2, 1, 0, 0], dtype=torch.float32)\n",
        "o /= o.sum()\n",
        "\n",
        "r = o.to('cuda')\n",
        "\n",
        "def calculate_p():\n",
        "    return torch.nn.functional.conv1d(n.unsqueeze(1), o.view(1, 1, -1), padding='same')[0]\n",
        "\n",
        "# Make a variable 's' that is like 'p' above, but the convolution calculation is performed on 'q' and 'r'.\n",
        "def calculate_s():\n",
        "    return torch.nn.functional.conv1d(q.unsqueeze(1), r.view(1, 1, -1), padding='same')[0]\n",
        "\n",
        "\n",
        "p_time = timeit.timeit(calculate_p, number=10)\n",
        "\n",
        "s_time = timeit.timeit(calculate_s, number=10)\n",
        "\n",
        "# Print the median runtime for each\n",
        "print(\"Median runtime for 'p':\", p_time / 10)\n",
        "print(\"Median runtime for 's':\", s_time / 10)\n"
      ],
      "metadata": {
        "id": "vXDhg-k8SLfA",
        "colab": {
          "base_uri": "https://localhost:8080/"
        },
        "outputId": "28016a7a-21b2-419f-ad38-cba8c6d73dd3"
      },
      "execution_count": 61,
      "outputs": [
        {
          "output_type": "stream",
          "name": "stdout",
          "text": [
            "Median runtime for 'p': 0.4156399452000187\n",
            "Median runtime for 's': 5.924980005147518e-05\n"
          ]
        }
      ]
    },
    {
      "cell_type": "code",
      "source": [
        "# Check total time spent\n",
        "# COMPARE GPU AND CPU timings\n",
        "print((time.time() - time_start) / 60)"
      ],
      "metadata": {
        "colab": {
          "base_uri": "https://localhost:8080/"
        },
        "id": "UPSdJ_LCUoHp",
        "outputId": "9768b0b0-1ba8-443d-cbab-9178e42df3ca"
      },
      "execution_count": 62,
      "outputs": [
        {
          "output_type": "stream",
          "name": "stdout",
          "text": [
            "0.09892213741938273\n"
          ]
        }
      ]
    },
    {
      "cell_type": "code",
      "source": [],
      "metadata": {
        "id": "em2zSxWtaLzX"
      },
      "execution_count": 62,
      "outputs": []
    }
  ]
}